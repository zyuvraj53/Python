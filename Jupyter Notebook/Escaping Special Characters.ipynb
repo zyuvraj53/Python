{
 "cells": [
  {
   "cell_type": "code",
   "execution_count": 34,
   "id": "hidden-binding",
   "metadata": {},
   "outputs": [],
   "source": [
    "def escape_special_characters(string_of_characters):\n",
    "    global new_escaped_string_of_characters\n",
    "    for c in string_of_characters:\n",
    "        if(c == \"\\\"\" ):\n",
    "            character = \"\\\"\"\n",
    "            new_escaped_string_of_characters += character\n",
    "        else:\n",
    "            new_escaped_string_of_characters += c\n",
    "    return new_escaped_string_of_characters"
   ]
  },
  {
   "cell_type": "code",
   "execution_count": 35,
   "id": "english-matthew",
   "metadata": {},
   "outputs": [
    {
     "name": "stdout",
     "output_type": "stream",
     "text": [
      "<function escape_special_characters at 0x000001CFD3D635E0>\n"
     ]
    }
   ],
   "source": [
    "print(escape_special_characters)"
   ]
  },
  {
   "cell_type": "code",
   "execution_count": 36,
   "id": "private-patio",
   "metadata": {},
   "outputs": [],
   "source": [
    "with open('no_ext', 'r', encoding = \"utf-8\") as f: #file will be closed after leaving the block\n",
    "    global newSentence\n",
    "    for line in f:\n",
    "        newSentence = escape_special_characters(line)"
   ]
  },
  {
   "cell_type": "code",
   "execution_count": 37,
   "id": "incredible-redhead",
   "metadata": {},
   "outputs": [
    {
     "name": "stdout",
     "output_type": "stream",
     "text": [
      "nothingThis file has no extension, and had an apostrophe \" right before that word.\n",
      "Let us see what it doesThis file has no extension, and had an apostrophe \" right before that word.\n",
      "Let us see what it doesThis file has no extension, and had an apostrophe \" right before that word.\n",
      "Let us see what it doesThis file has no extension, and had an apostrophe \" right before that word.\n",
      "Let us see what it doesThis file has no extension, and had an apostrophe \" right before that word.\n",
      "Let us see what it does\n"
     ]
    }
   ],
   "source": [
    "print(newSentence)"
   ]
  },
  {
   "cell_type": "code",
   "execution_count": 73,
   "id": "liked-lottery",
   "metadata": {},
   "outputs": [],
   "source": [
    "f = open('no_ext', 'r', encoding = \"utf-8\")"
   ]
  },
  {
   "cell_type": "code",
   "execution_count": 74,
   "id": "extensive-timothy",
   "metadata": {},
   "outputs": [],
   "source": [
    "f_contents = f.read()"
   ]
  },
  {
   "cell_type": "code",
   "execution_count": 75,
   "id": "tender-gnome",
   "metadata": {},
   "outputs": [
    {
     "ename": "AttributeError",
     "evalue": "'_io.TextIOWrapper' object has no attribute 'next'",
     "output_type": "error",
     "traceback": [
      "\u001b[1;31m---------------------------------------------------------------------------\u001b[0m",
      "\u001b[1;31mAttributeError\u001b[0m                            Traceback (most recent call last)",
      "\u001b[1;32m<ipython-input-75-c5e9de6a177b>\u001b[0m in \u001b[0;36m<module>\u001b[1;34m\u001b[0m\n\u001b[1;32m----> 1\u001b[1;33m \u001b[0mprint\u001b[0m\u001b[1;33m(\u001b[0m\u001b[0mf\u001b[0m\u001b[1;33m.\u001b[0m\u001b[0mnext\u001b[0m\u001b[1;33m)\u001b[0m\u001b[1;33m\u001b[0m\u001b[1;33m\u001b[0m\u001b[0m\n\u001b[0m",
      "\u001b[1;31mAttributeError\u001b[0m: '_io.TextIOWrapper' object has no attribute 'next'"
     ]
    }
   ],
   "source": [
    "print(f.next)"
   ]
  },
  {
   "cell_type": "code",
   "execution_count": 65,
   "id": "freelance-channels",
   "metadata": {},
   "outputs": [],
   "source": [
    "for line in f:\n",
    "    print(line)"
   ]
  },
  {
   "cell_type": "code",
   "execution_count": null,
   "id": "sexual-nirvana",
   "metadata": {},
   "outputs": [],
   "source": []
  }
 ],
 "metadata": {
  "kernelspec": {
   "display_name": "Python 3",
   "language": "python",
   "name": "python3"
  },
  "language_info": {
   "codemirror_mode": {
    "name": "ipython",
    "version": 3
   },
   "file_extension": ".py",
   "mimetype": "text/x-python",
   "name": "python",
   "nbconvert_exporter": "python",
   "pygments_lexer": "ipython3",
   "version": "3.9.1"
  }
 },
 "nbformat": 4,
 "nbformat_minor": 5
}

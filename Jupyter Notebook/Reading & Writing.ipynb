{
 "cells": [
  {
   "cell_type": "code",
   "execution_count": 1,
   "id": "artificial-macro",
   "metadata": {},
   "outputs": [],
   "source": [
    "#File Objects"
   ]
  },
  {
   "cell_type": "code",
   "execution_count": 2,
   "id": "brown-entity",
   "metadata": {},
   "outputs": [
    {
     "name": "stdout",
     "output_type": "stream",
     "text": [
      "Ⅰ) Open cmd, and type in 'jupyter notebook'.\n",
      "\n",
      "II) This is a line.\n",
      "\n",
      "III) This is the third line.\n",
      "\n",
      "IIII) This is the fourth line\n",
      "\n",
      "Ⅰ) Open cmd, and type in 'jupyter notebook'.zsdfsfd\n",
      "\n",
      "II) This is a line.gsdfgsdfg\n",
      "\n",
      "III) This is the third line.sgf\n",
      "sdfghsddfgs\n",
      "IIII) This sdfgsdfghdsfgfhdjgshdfis the fourth line\n",
      "\n",
      "Ⅰ) Open cmd, and type in 'jupytergsdhdfghjsdfgsdg notebook'.\n",
      "\n",
      "II) This is a line.sdgfjgefgsdfg\n",
      "\n",
      "III) This is the third line.srtywbtsr\n",
      "\n",
      "IIII) This is the fourth linesrthsrtbnrtbsrtdgfxrt"
     ]
    }
   ],
   "source": [
    "with open('READ_ME.txt', 'r', encoding = \"utf-8\") as f:   #file will be closed after leaving the block\n",
    "    for line in f:\n",
    "        print(line, end ='')"
   ]
  },
  {
   "cell_type": "code",
   "execution_count": 3,
   "id": "liquid-observer",
   "metadata": {},
   "outputs": [],
   "source": [
    "f = open('READ_ME.txt', 'r', encoding = \"utf-8\") # r for reading, r+ for reading and writing"
   ]
  },
  {
   "cell_type": "code",
   "execution_count": 4,
   "id": "scenic-electronics",
   "metadata": {},
   "outputs": [
    {
     "name": "stdout",
     "output_type": "stream",
     "text": [
      "READ_ME.txt\n",
      "False\n",
      "r\n",
      "False\n"
     ]
    }
   ],
   "source": [
    "print(f.name)\n",
    "print(f.closed)\n",
    "print(f.mode)\n",
    "# f.close()\n",
    "print(f.closed)"
   ]
  },
  {
   "cell_type": "code",
   "execution_count": 5,
   "id": "economic-construction",
   "metadata": {},
   "outputs": [],
   "source": [
    "f_contents = f.read() #use .readlines() for continuous string .readline() is also a function"
   ]
  },
  {
   "cell_type": "code",
   "execution_count": 6,
   "id": "wooden-symbol",
   "metadata": {},
   "outputs": [
    {
     "name": "stdout",
     "output_type": "stream",
     "text": [
      "Ⅰ) Open cmd, and type in 'jupyter notebook'.\n",
      "\n",
      "II) This is a line.\n",
      "\n",
      "III) This is the third line.\n",
      "\n",
      "IIII) This is the fourth line\n",
      "\n",
      "Ⅰ) Open cmd, and type in 'jupyter notebook'.zsdfsfd\n",
      "\n",
      "II) This is a line.gsdfgsdfg\n",
      "\n",
      "III) This is the third line.sgf\n",
      "sdfghsddfgs\n",
      "IIII) This sdfgsdfghdsfgfhdjgshdfis the fourth line\n",
      "\n",
      "Ⅰ) Open cmd, and type in 'jupytergsdhdfghjsdfgsdg notebook'.\n",
      "\n",
      "II) This is a line.sdgfjgefgsdfg\n",
      "\n",
      "III) This is the third line.srtywbtsr\n",
      "\n",
      "IIII) This is the fourth linesrthsrtbnrtbsrtdgfxrt\n"
     ]
    }
   ],
   "source": [
    "print(f_contents)"
   ]
  },
  {
   "cell_type": "code",
   "execution_count": null,
   "id": "ecological-promise",
   "metadata": {},
   "outputs": [],
   "source": []
  },
  {
   "cell_type": "code",
   "execution_count": null,
   "id": "measured-output",
   "metadata": {},
   "outputs": [],
   "source": []
  },
  {
   "cell_type": "code",
   "execution_count": null,
   "id": "approximate-difficulty",
   "metadata": {},
   "outputs": [],
   "source": []
  }
 ],
 "metadata": {
  "kernelspec": {
   "display_name": "Python 3",
   "language": "python",
   "name": "python3"
  },
  "language_info": {
   "codemirror_mode": {
    "name": "ipython",
    "version": 3
   },
   "file_extension": ".py",
   "mimetype": "text/x-python",
   "name": "python",
   "nbconvert_exporter": "python",
   "pygments_lexer": "ipython3",
   "version": "3.9.1"
  }
 },
 "nbformat": 4,
 "nbformat_minor": 5
}
